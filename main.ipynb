{
 "cells": [
  {
   "cell_type": "code",
   "execution_count": null,
   "metadata": {
    "collapsed": true
   },
   "outputs": [],
   "source": [
    "# 导入必要模块\n",
    "import datetime\n",
    "import xgboost\n",
    "import pandas as pd\n",
    "import numpy as np\n",
    "from sklearn.metrics import r2_score, mean_squared_error\n",
    "import matplotlib.pyplot as plt"
   ]
  },
  {
   "cell_type": "code",
   "execution_count": null,
   "outputs": [],
   "source": [
    "# 实验设置\n",
    "config = {\n",
    "    'look_back': 10,\n",
    "    'lead_time': 1,\n",
    "    'feature_cols': ['dayl(s)', 'prcp(mm/day)', 'srad(W/m2)', 'swe(mm)', 'tmax(C)', 'tmin(C)', 'vp(Pa)', 'QObs(mm/d)'],\n",
    "    'target_cols': ['QObs(mm/d)']\n",
    "}"
   ],
   "metadata": {
    "collapsed": false
   }
  },
  {
   "cell_type": "code",
   "execution_count": null,
   "outputs": [],
   "source": [
    "# 数据读取和划分\n",
    "df = pd.read_csv(r'data/02324400.csv')\n",
    "df['date'] = pd.to_datetime(df['date'])\n",
    "train_df = df.loc[(pd.to_datetime('19801001', format='%Y%m%d') <= df['date']) & (\n",
    "        df['date'] <= pd.to_datetime('19950930', format='%Y%m%d')), :]\n",
    "val_df = df.loc[(pd.to_datetime('19951001', format='%Y%m%d') - datetime.timedelta(days=config['look_back'])\n",
    "                 <= df['date']) & (df['date'] <= pd.to_datetime('20000930', format='%Y%m%d')), :]\n",
    "test_df = df.loc[(pd.to_datetime('20001001', format='%Y%m%d') - datetime.timedelta(days=config['look_back'])\n",
    "                  <= df['date']) & (df['date'] <= pd.to_datetime('20100930', format='%Y%m%d')), :]"
   ],
   "metadata": {
    "collapsed": false
   }
  },
  {
   "cell_type": "code",
   "execution_count": null,
   "outputs": [],
   "source": [
    "# 创建滑动窗口方法用于样本生成\n",
    "def slide_window(df, look_back, lead_time, feature_cols, target_cols):\n",
    "    x_list = []\n",
    "    for i in range(0, len(df) - look_back - lead_time + 1, 1):\n",
    "        temp_x = df[feature_cols].values[i:i + look_back, :].reshape(1, -1)\n",
    "        x_list.append(temp_x)\n",
    "    x = np.concatenate(x_list, axis=0)\n",
    "    y = df[target_cols].values[lead_time + look_back - 1:, :].reshape(-1, 1)\n",
    "    return x, y"
   ],
   "metadata": {
    "collapsed": false
   }
  },
  {
   "cell_type": "code",
   "execution_count": null,
   "outputs": [],
   "source": [
    "# 生成训练、验证、测试样本\n",
    "train_x, train_y = slide_window(train_df, config['look_back'], config['lead_time'], config['feature_cols'],\n",
    "                                config['target_cols'])\n",
    "val_x, val_y = slide_window(val_df, config['look_back'], config['lead_time'], config['feature_cols'],\n",
    "                            config['target_cols'])\n",
    "test_x, test_y = slide_window(test_df, config['look_back'], config['lead_time'], config['feature_cols'],\n",
    "                              config['target_cols'])"
   ],
   "metadata": {
    "collapsed": false
   }
  },
  {
   "cell_type": "code",
   "execution_count": null,
   "outputs": [],
   "source": [
    "# 模型搭建与训练\n",
    "model = xgboost.XGBRegressor(max_depth=15, learning_rate=0.1, n_estimators=200)\n",
    "model.fit(train_x, train_y, eval_set=[(val_x, val_y)])"
   ],
   "metadata": {
    "collapsed": false
   }
  },
  {
   "cell_type": "code",
   "execution_count": null,
   "outputs": [],
   "source": [
    "# 模型验证与结果展示\n",
    "test_pred = model.predict(test_x)\n",
    "print(f\"test r2_score: {r2_score(test_y, test_pred)}\")\n",
    "plt.plot(test_y, label='real')\n",
    "plt.plot(test_pred, label='pred')\n",
    "plt.show()"
   ],
   "metadata": {
    "collapsed": false
   }
  }
 ],
 "metadata": {
  "kernelspec": {
   "display_name": "Python 3",
   "language": "python",
   "name": "python3"
  },
  "language_info": {
   "codemirror_mode": {
    "name": "ipython",
    "version": 2
   },
   "file_extension": ".py",
   "mimetype": "text/x-python",
   "name": "python",
   "nbconvert_exporter": "python",
   "pygments_lexer": "ipython2",
   "version": "2.7.6"
  }
 },
 "nbformat": 4,
 "nbformat_minor": 0
}
